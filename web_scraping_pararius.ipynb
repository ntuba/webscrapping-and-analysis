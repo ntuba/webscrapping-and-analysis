{
 "cells": [
  {
   "cell_type": "code",
   "execution_count": 1,
   "id": "b6b74b20",
   "metadata": {},
   "outputs": [],
   "source": [
    "## importing the necessary libaries\n",
    "from bs4 import BeautifulSoup\n",
    "import requests \n",
    "from csv import writer\n"
   ]
  },
  {
   "cell_type": "code",
   "execution_count": 2,
   "id": "55eb2587",
   "metadata": {},
   "outputs": [
    {
     "data": {
      "text/plain": [
       "33"
      ]
     },
     "execution_count": 2,
     "metadata": {},
     "output_type": "execute_result"
    }
   ],
   "source": [
    "## Creating the csv file which the data will be written to .\n",
    "file = open('House_data.csv', 'a')\n",
    "writter = writer(file)\n",
    "header = ['ADDRESS','ROOMS', 'LIVING AREA', 'PRICE',]\n",
    "      \n",
    "writter.writerow(header)  \n",
    "    "
   ]
  },
  {
   "cell_type": "code",
   "execution_count": 3,
   "id": "3acd9a75",
   "metadata": {
    "scrolled": true
   },
   "outputs": [],
   "source": [
    "## Data Fetching\n",
    "\n",
    "\n",
    "def scrapper(page_num):\n",
    "    url = 'https://www.pararius.com/apartments/amsterdam/page-'\n",
    "    ## Doing this because the url didn't start from 1\n",
    "    if page_num == 1:\n",
    "        base_url = 'https://www.pararius.com/apartments/amsterdam'\n",
    "    else:\n",
    "        base_url = url + str(page_num)\n",
    "    \n",
    "\n",
    "    page = requests.get(url)\n",
    "    soup = BeautifulSoup(page.content, 'html.parser')\n",
    "\n",
    "\n",
    "    Data_list = soup.find_all(\"li\", class_=\"search-list__item search-list__item--listing\")\n",
    "   \n",
    " ## Walking through the big list to find the various data based on their html classes and replacing the space character with an empty string   \n",
    "    for data in Data_list:\n",
    "        Title = data.find('a', {'class' : \"listing-search-item__link listing-search-item__link--title\"}).get_text().replace('\\n', '')\n",
    "        Sub_title = data.find('div', {'class' : \"listing-search-item__sub-title'\"}).get_text().replace('\\n', '')\n",
    "        Price = data.find('div', {'class':\"listing-search-item__price\"}).get_text().replace('€', '').replace('\\n', '')\n",
    "        Area = data.find('li', {'class':\"illustrated-features__item illustrated-features__item--surface-area\"}).get_text().replace('\\n', '')\n",
    "        Rooms= data.find('li', {'class': \"illustrated-features__item illustrated-features__item--number-of-rooms\"}).get_text().replace('\\n', '')\n",
    "        \n",
    "\n",
    "## Cleaning to remove the spaces and also remove the data in list format\n",
    "        Title_format = ''.join(Title.strip())\n",
    "        Sub_title_format = ''.join(Sub_title.strip())\n",
    "        Price_format = ''.join(Price.strip())\n",
    "        Area_format = ''.join(Area.strip())\n",
    "        Rooms_format = ''.join(Rooms.strip())\n",
    "\n",
    "        Address = Title_format + Sub_title_format\n",
    "\n",
    "## Putting the clean data in a list so that the writer can go through the list fetch each data and write to the file\n",
    "        House_data = [Address, Rooms_format, Area_format, Price_format,]\n",
    "        writter.writerow(House_data)\n",
    "    \n",
    " \n",
    "            \n",
    "          \n"
   ]
  },
  {
   "cell_type": "code",
   "execution_count": 4,
   "id": "fe39661a",
   "metadata": {},
   "outputs": [],
   "source": [
    "for i in range(1,22):## scrapes through the 21 pages of the website \n",
    "    scrapper(i)"
   ]
  },
  {
   "cell_type": "code",
   "execution_count": 5,
   "id": "15dd9ace",
   "metadata": {},
   "outputs": [],
   "source": [
    "file.close() ## closing the file after writting to the file is over"
   ]
  },
  {
   "cell_type": "code",
   "execution_count": null,
   "id": "ee162b74",
   "metadata": {},
   "outputs": [],
   "source": []
  }
 ],
 "metadata": {
  "kernelspec": {
   "display_name": "Python 3 (ipykernel)",
   "language": "python",
   "name": "python3"
  },
  "language_info": {
   "codemirror_mode": {
    "name": "ipython",
    "version": 3
   },
   "file_extension": ".py",
   "mimetype": "text/x-python",
   "name": "python",
   "nbconvert_exporter": "python",
   "pygments_lexer": "ipython3",
   "version": "3.9.12"
  }
 },
 "nbformat": 4,
 "nbformat_minor": 5
}
